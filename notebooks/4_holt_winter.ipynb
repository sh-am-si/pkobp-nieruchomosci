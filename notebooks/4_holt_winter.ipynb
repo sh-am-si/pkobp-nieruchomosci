{
 "cells": [
  {
   "cell_type": "markdown",
   "metadata": {},
   "source": [
    "https://www.statsmodels.org/dev/generated/statsmodels.tsa.holtwinters.ExponentialSmoothing.html\n",
    "\n",
    "https://medium.com/analytics-vidhya/python-code-on-holt-winters-forecasting-3843808a9873\n",
    "\n"
   ]
  },
  {
   "cell_type": "code",
   "execution_count": 2,
   "metadata": {},
   "outputs": [
    {
     "name": "stdout",
     "output_type": "stream",
     "text": [
      "The autoreload extension is already loaded. To reload it, use:\n",
      "  %reload_ext autoreload\n"
     ]
    }
   ],
   "source": [
    "%load_ext autoreload\n",
    "%autoreload 2\n",
    "\n",
    "import sys\n",
    "sys.path.append(\"../\")\n",
    "\n",
    "import pandas as pd\n",
    "import numpy as np\n",
    "import datetime as dt\n",
    "import statsmodels.api as sm\n",
    "import statsmodels.graphics as sg\n",
    "import statsmodels.formula.api as smf\n",
    "import statsmodels.stats as st\n",
    "\n",
    "\n",
    "import matplotlib.pylab as plt\n",
    "\n",
    "import seaborn as sns\n",
    "sns.set_theme()\n",
    "\n",
    "from sklearn.linear_model import LinearRegression\n",
    "from sklearn import metrics \n",
    "\n",
    "\n",
    "\n",
    "%matplotlib inline"
   ]
  },
  {
   "cell_type": "code",
   "execution_count": 6,
   "metadata": {},
   "outputs": [
    {
     "data": {
      "text/plain": [
       "((42, 15),\n",
       " Index(['rynek', 'inflacja_r', 'inflacja_q', 'stopa_procentowa',\n",
       "        'liczba_kredytow', 'tempo_wzrostu', 'ufnosc', 'duze_zakupy',\n",
       "        'bezrobocie', 'spr_detaliczna', 'pkb', 'wynag', 'inflacja_q_kum',\n",
       "        'ogolem', 'rpk'],\n",
       "       dtype='object'))"
      ]
     },
     "execution_count": 6,
     "metadata": {},
     "output_type": "execute_result"
    }
   ],
   "source": [
    "df = pd.read_csv('../data/nts.csv', index_col=0, parse_dates=True)\n",
    "df.shape, df.columns"
   ]
  },
  {
   "cell_type": "code",
   "execution_count": 66,
   "metadata": {},
   "outputs": [],
   "source": [
    "df[\"quarter\"] = pd.PeriodIndex(df.index, freq='Q').map(lambda r: int(str(r)[-1]))"
   ]
  },
  {
   "cell_type": "markdown",
   "metadata": {},
   "source": [
    "drugiej połowie 2023 wynika z uruchomienia rządowego programu kredytów z preferencyjnym oprocentowaniem Bezpieczny Kredyt 2% (program był aktywny w okresie 01-07-2023 do 31-12-2023)"
   ]
  },
  {
   "cell_type": "code",
   "execution_count": 7,
   "metadata": {},
   "outputs": [
    {
     "data": {
      "text/html": [
       "<div>\n",
       "<style scoped>\n",
       "    .dataframe tbody tr th:only-of-type {\n",
       "        vertical-align: middle;\n",
       "    }\n",
       "\n",
       "    .dataframe tbody tr th {\n",
       "        vertical-align: top;\n",
       "    }\n",
       "\n",
       "    .dataframe thead th {\n",
       "        text-align: right;\n",
       "    }\n",
       "</style>\n",
       "<table border=\"1\" class=\"dataframe\">\n",
       "  <thead>\n",
       "    <tr style=\"text-align: right;\">\n",
       "      <th></th>\n",
       "      <th>rynek</th>\n",
       "      <th>inflacja_r</th>\n",
       "      <th>inflacja_q</th>\n",
       "      <th>stopa_procentowa</th>\n",
       "      <th>liczba_kredytow</th>\n",
       "      <th>tempo_wzrostu</th>\n",
       "      <th>ufnosc</th>\n",
       "      <th>duze_zakupy</th>\n",
       "      <th>bezrobocie</th>\n",
       "      <th>spr_detaliczna</th>\n",
       "      <th>pkb</th>\n",
       "      <th>wynag</th>\n",
       "      <th>inflacja_q_kum</th>\n",
       "      <th>ogolem</th>\n",
       "      <th>rpk</th>\n",
       "    </tr>\n",
       "  </thead>\n",
       "  <tbody>\n",
       "    <tr>\n",
       "      <th>2014-03-31</th>\n",
       "      <td>6193.211456</td>\n",
       "      <td>100.6</td>\n",
       "      <td>100.2</td>\n",
       "      <td>0.0446</td>\n",
       "      <td>41942.0</td>\n",
       "      <td>104.2</td>\n",
       "      <td>-20.5</td>\n",
       "      <td>-16.3</td>\n",
       "      <td>13.5</td>\n",
       "      <td>105.5</td>\n",
       "      <td>103.8</td>\n",
       "      <td>3882.041728</td>\n",
       "      <td>1.000000</td>\n",
       "      <td>11854.000000</td>\n",
       "      <td>0.0</td>\n",
       "    </tr>\n",
       "    <tr>\n",
       "      <th>2014-06-30</th>\n",
       "      <td>6227.984614</td>\n",
       "      <td>100.3</td>\n",
       "      <td>100.0</td>\n",
       "      <td>0.0447</td>\n",
       "      <td>45499.0</td>\n",
       "      <td>104.1</td>\n",
       "      <td>-16.8</td>\n",
       "      <td>-15.0</td>\n",
       "      <td>12.0</td>\n",
       "      <td>105.1</td>\n",
       "      <td>103.9</td>\n",
       "      <td>3922.805136</td>\n",
       "      <td>1.002000</td>\n",
       "      <td>10285.333333</td>\n",
       "      <td>0.0</td>\n",
       "    </tr>\n",
       "    <tr>\n",
       "      <th>2014-09-30</th>\n",
       "      <td>6357.260998</td>\n",
       "      <td>99.7</td>\n",
       "      <td>99.5</td>\n",
       "      <td>0.0443</td>\n",
       "      <td>43653.0</td>\n",
       "      <td>103.3</td>\n",
       "      <td>-16.9</td>\n",
       "      <td>-12.7</td>\n",
       "      <td>11.5</td>\n",
       "      <td>102.6</td>\n",
       "      <td>104.2</td>\n",
       "      <td>3948.311807</td>\n",
       "      <td>1.002000</td>\n",
       "      <td>11241.333333</td>\n",
       "      <td>0.0</td>\n",
       "    </tr>\n",
       "    <tr>\n",
       "      <th>2014-12-31</th>\n",
       "      <td>6438.874574</td>\n",
       "      <td>99.3</td>\n",
       "      <td>99.6</td>\n",
       "      <td>0.0388</td>\n",
       "      <td>42993.0</td>\n",
       "      <td>103.3</td>\n",
       "      <td>-13.8</td>\n",
       "      <td>-10.7</td>\n",
       "      <td>11.4</td>\n",
       "      <td>103.7</td>\n",
       "      <td>103.9</td>\n",
       "      <td>3986.074690</td>\n",
       "      <td>0.996990</td>\n",
       "      <td>14341.333333</td>\n",
       "      <td>0.0</td>\n",
       "    </tr>\n",
       "    <tr>\n",
       "      <th>2015-03-31</th>\n",
       "      <td>6473.616559</td>\n",
       "      <td>98.5</td>\n",
       "      <td>99.5</td>\n",
       "      <td>0.0348</td>\n",
       "      <td>42169.0</td>\n",
       "      <td>104.0</td>\n",
       "      <td>-14.9</td>\n",
       "      <td>-11.5</td>\n",
       "      <td>11.5</td>\n",
       "      <td>104.4</td>\n",
       "      <td>104.3</td>\n",
       "      <td>4028.086865</td>\n",
       "      <td>0.993002</td>\n",
       "      <td>10567.666667</td>\n",
       "      <td>0.0</td>\n",
       "    </tr>\n",
       "  </tbody>\n",
       "</table>\n",
       "</div>"
      ],
      "text/plain": [
       "                  rynek  inflacja_r  inflacja_q  stopa_procentowa  \\\n",
       "2014-03-31  6193.211456       100.6       100.2            0.0446   \n",
       "2014-06-30  6227.984614       100.3       100.0            0.0447   \n",
       "2014-09-30  6357.260998        99.7        99.5            0.0443   \n",
       "2014-12-31  6438.874574        99.3        99.6            0.0388   \n",
       "2015-03-31  6473.616559        98.5        99.5            0.0348   \n",
       "\n",
       "            liczba_kredytow  tempo_wzrostu  ufnosc  duze_zakupy  bezrobocie  \\\n",
       "2014-03-31          41942.0          104.2   -20.5        -16.3        13.5   \n",
       "2014-06-30          45499.0          104.1   -16.8        -15.0        12.0   \n",
       "2014-09-30          43653.0          103.3   -16.9        -12.7        11.5   \n",
       "2014-12-31          42993.0          103.3   -13.8        -10.7        11.4   \n",
       "2015-03-31          42169.0          104.0   -14.9        -11.5        11.5   \n",
       "\n",
       "            spr_detaliczna    pkb        wynag  inflacja_q_kum        ogolem  \\\n",
       "2014-03-31           105.5  103.8  3882.041728        1.000000  11854.000000   \n",
       "2014-06-30           105.1  103.9  3922.805136        1.002000  10285.333333   \n",
       "2014-09-30           102.6  104.2  3948.311807        1.002000  11241.333333   \n",
       "2014-12-31           103.7  103.9  3986.074690        0.996990  14341.333333   \n",
       "2015-03-31           104.4  104.3  4028.086865        0.993002  10567.666667   \n",
       "\n",
       "            rpk  \n",
       "2014-03-31  0.0  \n",
       "2014-06-30  0.0  \n",
       "2014-09-30  0.0  \n",
       "2014-12-31  0.0  \n",
       "2015-03-31  0.0  "
      ]
     },
     "execution_count": 7,
     "metadata": {},
     "output_type": "execute_result"
    }
   ],
   "source": [
    "df.head()"
   ]
  },
  {
   "cell_type": "code",
   "execution_count": 8,
   "metadata": {},
   "outputs": [
    {
     "data": {
      "text/plain": [
       "(DatetimeIndex(['2014-03-31', '2014-06-30', '2014-09-30', '2014-12-31',\n",
       "                '2015-03-31', '2015-06-30', '2015-09-30', '2015-12-31',\n",
       "                '2016-03-31', '2016-06-30', '2016-09-30', '2016-12-31',\n",
       "                '2017-03-31', '2017-06-30', '2017-09-30', '2017-12-31',\n",
       "                '2018-03-31', '2018-06-30', '2018-09-30', '2018-12-31',\n",
       "                '2019-03-31', '2019-06-30', '2019-09-30', '2019-12-31',\n",
       "                '2020-03-31', '2020-06-30', '2020-09-30', '2020-12-31',\n",
       "                '2021-03-31', '2021-06-30', '2021-09-30', '2021-12-31',\n",
       "                '2022-03-31', '2022-06-30', '2022-09-30'],\n",
       "               dtype='datetime64[ns]', freq=None),\n",
       " DatetimeIndex(['2022-12-31', '2023-03-31', '2023-06-30', '2023-09-30',\n",
       "                '2023-12-31', '2024-03-31', '2024-06-30'],\n",
       "               dtype='datetime64[ns]', freq=None),\n",
       " 35,\n",
       " 7)"
      ]
     },
     "execution_count": 8,
     "metadata": {},
     "output_type": "execute_result"
    }
   ],
   "source": [
    "bn, fn = 35, 42\n",
    "train, test = df.iloc[:bn], df.iloc[bn:fn]\n",
    "train.index, test.index, len(train), len(test)"
   ]
  },
  {
   "cell_type": "code",
   "execution_count": 90,
   "metadata": {},
   "outputs": [],
   "source": [
    "X_train = train.drop('rynek', axis=1)\n",
    "y_train = train['rynek']\n",
    "\n",
    "X_test = test.drop('rynek', axis=1)\n",
    "y_test = test['rynek']"
   ]
  }
 ],
 "metadata": {
  "kernelspec": {
   "display_name": ".venv",
   "language": "python",
   "name": "python3"
  },
  "language_info": {
   "codemirror_mode": {
    "name": "ipython",
    "version": 3
   },
   "file_extension": ".py",
   "mimetype": "text/x-python",
   "name": "python",
   "nbconvert_exporter": "python",
   "pygments_lexer": "ipython3",
   "version": "3.12.3"
  }
 },
 "nbformat": 4,
 "nbformat_minor": 2
}
