{
 "cells": [
  {
   "cell_type": "code",
   "execution_count": null,
   "metadata": {},
   "outputs": [
    {
     "name": "stdout",
     "output_type": "stream",
     "text": [
      "The autoreload extension is already loaded. To reload it, use:\n",
      "  %reload_ext autoreload\n"
     ]
    }
   ],
   "source": [
    "%load_ext autoreload\n",
    "%autoreload 2\n",
    "\n",
    "import sys\n",
    "sys.path.append(\"../\")\n",
    "\n",
    "import pandas as pd\n",
    "import numpy as np\n",
    "import statsmodels.api as sm\n",
    "import statsmodels.graphics as sg\n",
    "\n",
    "\n",
    "import matplotlib.pylab as plt\n",
    "\n",
    "import seaborn as sns\n",
    "sns.set_theme()\n",
    "\n",
    "%matplotlib inline"
   ]
  },
  {
   "cell_type": "code",
   "execution_count": 28,
   "metadata": {},
   "outputs": [
    {
     "data": {
      "text/plain": [
       "(43, 11)"
      ]
     },
     "execution_count": 28,
     "metadata": {},
     "output_type": "execute_result"
    }
   ],
   "source": [
    "df = pd.read_csv('../data/ts.csv', index_col=0, parse_dates=True)\n",
    "df.shape"
   ]
  },
  {
   "cell_type": "code",
   "execution_count": 29,
   "metadata": {},
   "outputs": [
    {
     "data": {
      "text/html": [
       "<div>\n",
       "<style scoped>\n",
       "    .dataframe tbody tr th:only-of-type {\n",
       "        vertical-align: middle;\n",
       "    }\n",
       "\n",
       "    .dataframe tbody tr th {\n",
       "        vertical-align: top;\n",
       "    }\n",
       "\n",
       "    .dataframe thead th {\n",
       "        text-align: right;\n",
       "    }\n",
       "</style>\n",
       "<table border=\"1\" class=\"dataframe\">\n",
       "  <thead>\n",
       "    <tr style=\"text-align: right;\">\n",
       "      <th></th>\n",
       "      <th>rynek</th>\n",
       "      <th>inflacja_r</th>\n",
       "      <th>inflacja_q</th>\n",
       "      <th>stopa_procentowa</th>\n",
       "      <th>liczba_kredytow</th>\n",
       "      <th>tempo_wzrostu</th>\n",
       "      <th>ufnosc</th>\n",
       "      <th>duze_zakupy</th>\n",
       "      <th>bezrobocie</th>\n",
       "      <th>spr_detaliczna</th>\n",
       "      <th>pkb</th>\n",
       "    </tr>\n",
       "  </thead>\n",
       "  <tbody>\n",
       "    <tr>\n",
       "      <th>2014-03-31</th>\n",
       "      <td>6193.211456</td>\n",
       "      <td>100.6</td>\n",
       "      <td>100.2</td>\n",
       "      <td>0.0446</td>\n",
       "      <td>41942.0</td>\n",
       "      <td>104.2</td>\n",
       "      <td>-20.5</td>\n",
       "      <td>-16.3</td>\n",
       "      <td>13.5</td>\n",
       "      <td>105.5</td>\n",
       "      <td>103.8</td>\n",
       "    </tr>\n",
       "    <tr>\n",
       "      <th>2014-06-30</th>\n",
       "      <td>6227.984614</td>\n",
       "      <td>100.3</td>\n",
       "      <td>100.0</td>\n",
       "      <td>0.0447</td>\n",
       "      <td>45499.0</td>\n",
       "      <td>104.1</td>\n",
       "      <td>-16.8</td>\n",
       "      <td>-15.0</td>\n",
       "      <td>12.0</td>\n",
       "      <td>105.1</td>\n",
       "      <td>103.9</td>\n",
       "    </tr>\n",
       "    <tr>\n",
       "      <th>2014-09-30</th>\n",
       "      <td>6357.260998</td>\n",
       "      <td>99.7</td>\n",
       "      <td>99.5</td>\n",
       "      <td>0.0443</td>\n",
       "      <td>43653.0</td>\n",
       "      <td>103.3</td>\n",
       "      <td>-16.9</td>\n",
       "      <td>-12.7</td>\n",
       "      <td>11.5</td>\n",
       "      <td>102.6</td>\n",
       "      <td>104.2</td>\n",
       "    </tr>\n",
       "    <tr>\n",
       "      <th>2014-12-31</th>\n",
       "      <td>6438.874574</td>\n",
       "      <td>99.3</td>\n",
       "      <td>99.6</td>\n",
       "      <td>0.0388</td>\n",
       "      <td>42993.0</td>\n",
       "      <td>103.3</td>\n",
       "      <td>-13.8</td>\n",
       "      <td>-10.7</td>\n",
       "      <td>11.4</td>\n",
       "      <td>103.7</td>\n",
       "      <td>103.9</td>\n",
       "    </tr>\n",
       "    <tr>\n",
       "      <th>2015-03-31</th>\n",
       "      <td>6473.616559</td>\n",
       "      <td>98.5</td>\n",
       "      <td>99.5</td>\n",
       "      <td>0.0348</td>\n",
       "      <td>42169.0</td>\n",
       "      <td>104.0</td>\n",
       "      <td>-14.9</td>\n",
       "      <td>-11.5</td>\n",
       "      <td>11.5</td>\n",
       "      <td>104.4</td>\n",
       "      <td>104.3</td>\n",
       "    </tr>\n",
       "  </tbody>\n",
       "</table>\n",
       "</div>"
      ],
      "text/plain": [
       "                  rynek  inflacja_r  inflacja_q  stopa_procentowa  \\\n",
       "2014-03-31  6193.211456       100.6       100.2            0.0446   \n",
       "2014-06-30  6227.984614       100.3       100.0            0.0447   \n",
       "2014-09-30  6357.260998        99.7        99.5            0.0443   \n",
       "2014-12-31  6438.874574        99.3        99.6            0.0388   \n",
       "2015-03-31  6473.616559        98.5        99.5            0.0348   \n",
       "\n",
       "            liczba_kredytow  tempo_wzrostu  ufnosc  duze_zakupy  bezrobocie  \\\n",
       "2014-03-31          41942.0          104.2   -20.5        -16.3        13.5   \n",
       "2014-06-30          45499.0          104.1   -16.8        -15.0        12.0   \n",
       "2014-09-30          43653.0          103.3   -16.9        -12.7        11.5   \n",
       "2014-12-31          42993.0          103.3   -13.8        -10.7        11.4   \n",
       "2015-03-31          42169.0          104.0   -14.9        -11.5        11.5   \n",
       "\n",
       "            spr_detaliczna    pkb  \n",
       "2014-03-31           105.5  103.8  \n",
       "2014-06-30           105.1  103.9  \n",
       "2014-09-30           102.6  104.2  \n",
       "2014-12-31           103.7  103.9  \n",
       "2015-03-31           104.4  104.3  "
      ]
     },
     "execution_count": 29,
     "metadata": {},
     "output_type": "execute_result"
    }
   ],
   "source": [
    "df.head()"
   ]
  },
  {
   "cell_type": "code",
   "execution_count": 30,
   "metadata": {},
   "outputs": [
    {
     "data": {
      "text/plain": [
       "rynek               0\n",
       "inflacja_r          0\n",
       "inflacja_q          0\n",
       "stopa_procentowa    0\n",
       "liczba_kredytow     0\n",
       "tempo_wzrostu       0\n",
       "ufnosc              0\n",
       "duze_zakupy         0\n",
       "bezrobocie          0\n",
       "spr_detaliczna      0\n",
       "pkb                 0\n",
       "dtype: int64"
      ]
     },
     "execution_count": 30,
     "metadata": {},
     "output_type": "execute_result"
    }
   ],
   "source": [
    "df.isna().sum(axis=0)"
   ]
  },
  {
   "cell_type": "code",
   "execution_count": 31,
   "metadata": {},
   "outputs": [
    {
     "data": {
      "text/plain": [
       "Index(['rynek', 'inflacja_r', 'inflacja_q', 'stopa_procentowa',\n",
       "       'liczba_kredytow', 'tempo_wzrostu', 'ufnosc', 'duze_zakupy',\n",
       "       'bezrobocie', 'spr_detaliczna', 'pkb'],\n",
       "      dtype='object')"
      ]
     },
     "execution_count": 31,
     "metadata": {},
     "output_type": "execute_result"
    }
   ],
   "source": [
    "df.columns"
   ]
  },
  {
   "cell_type": "code",
   "execution_count": 33,
   "metadata": {},
   "outputs": [
    {
     "data": {
      "text/plain": [
       "<matplotlib.legend.Legend at 0x73003b6d0fe0>"
      ]
     },
     "execution_count": 33,
     "metadata": {},
     "output_type": "execute_result"
    },
    {
     "data": {
      "image/png": "[encoded data removed]",
      "text/plain": [
       "<Figure size 640x480 with 1 Axes>"
      ]
     },
     "metadata": {},
     "output_type": "display_data"
    }
   ],
   "source": [
    "for col in ['inflacja_r', 'inflacja_q', 'stopa_procentowa',\n",
    "        'tempo_wzrostu', 'ufnosc', 'duze_zakupy',\n",
    "       'bezrobocie', 'spr_detaliczna', 'pkb']:\n",
    "    plt.plot(df[col], lw=2, label=col)\n",
    "plt.legend()"
   ]
  },
  {
   "cell_type": "code",
   "execution_count": null,
   "metadata": {},
   "outputs": [],
   "source": [
    "for col in df.columns:\n",
    "    fig = plt.figure(figsize=(6, 3))\n",
    "    plt.title(col)\n",
    "    plt.plot(df[col], lw=2, label=col)\n",
    "    \n",
    "    fig.savefig(f\"../images/plot_column_{col}.png\")\n",
    "# plt.legend()"
   ]
  },
  {
   "cell_type": "code",
   "execution_count": null,
   "metadata": {},
   "outputs": [
    {
     "data": {
      "text/html": [
       "<div>\n",
       "<style scoped>\n",
       "    .dataframe tbody tr th:only-of-type {\n",
       "        vertical-align: middle;\n",
       "    }\n",
       "\n",
       "    .dataframe tbody tr th {\n",
       "        vertical-align: top;\n",
       "    }\n",
       "\n",
       "    .dataframe thead th {\n",
       "        text-align: right;\n",
       "    }\n",
       "</style>\n",
       "<table border=\"1\" class=\"dataframe\">\n",
       "  <thead>\n",
       "    <tr style=\"text-align: right;\">\n",
       "      <th></th>\n",
       "      <th>rynek</th>\n",
       "      <th>inflacja_r</th>\n",
       "      <th>inflacja_q</th>\n",
       "      <th>stopa_procentowa</th>\n",
       "      <th>liczba_kredytow</th>\n",
       "      <th>tempo_wzrostu</th>\n",
       "      <th>ufnosc</th>\n",
       "      <th>duze_zajupy</th>\n",
       "      <th>bezrobocie</th>\n",
       "      <th>spr_detaliczna</th>\n",
       "      <th>pkb</th>\n",
       "    </tr>\n",
       "  </thead>\n",
       "  <tbody>\n",
       "    <tr>\n",
       "      <th>count</th>\n",
       "      <td>43.000000</td>\n",
       "      <td>43.000000</td>\n",
       "      <td>43.000000</td>\n",
       "      <td>43.000000</td>\n",
       "      <td>43.000000</td>\n",
       "      <td>43.000000</td>\n",
       "      <td>43.000000</td>\n",
       "      <td>43.000000</td>\n",
       "      <td>43.000000</td>\n",
       "      <td>43.000000</td>\n",
       "      <td>43.000000</td>\n",
       "    </tr>\n",
       "    <tr>\n",
       "      <th>mean</th>\n",
       "      <td>8969.261476</td>\n",
       "      <td>103.825581</td>\n",
       "      <td>100.983721</td>\n",
       "      <td>0.048044</td>\n",
       "      <td>48104.139535</td>\n",
       "      <td>107.218605</td>\n",
       "      <td>-12.034884</td>\n",
       "      <td>-7.934884</td>\n",
       "      <td>7.095349</td>\n",
       "      <td>103.939535</td>\n",
       "      <td>103.711628</td>\n",
       "    </tr>\n",
       "    <tr>\n",
       "      <th>std</th>\n",
       "      <td>2597.466115</td>\n",
       "      <td>5.054941</td>\n",
       "      <td>1.430606</td>\n",
       "      <td>0.021919</td>\n",
       "      <td>11237.663947</td>\n",
       "      <td>3.499949</td>\n",
       "      <td>14.807766</td>\n",
       "      <td>16.879163</td>\n",
       "      <td>2.321222</td>\n",
       "      <td>4.513954</td>\n",
       "      <td>3.245158</td>\n",
       "    </tr>\n",
       "    <tr>\n",
       "      <th>min</th>\n",
       "      <td>6193.211456</td>\n",
       "      <td>98.500000</td>\n",
       "      <td>99.300000</td>\n",
       "      <td>0.024200</td>\n",
       "      <td>18932.000000</td>\n",
       "      <td>102.100000</td>\n",
       "      <td>-43.800000</td>\n",
       "      <td>-39.600000</td>\n",
       "      <td>4.900000</td>\n",
       "      <td>89.300000</td>\n",
       "      <td>92.300000</td>\n",
       "    </tr>\n",
       "    <tr>\n",
       "      <th>25%</th>\n",
       "      <td>6800.584386</td>\n",
       "      <td>100.450000</td>\n",
       "      <td>100.050000</td>\n",
       "      <td>0.036000</td>\n",
       "      <td>43323.000000</td>\n",
       "      <td>104.200000</td>\n",
       "      <td>-21.500000</td>\n",
       "      <td>-17.200000</td>\n",
       "      <td>5.300000</td>\n",
       "      <td>102.000000</td>\n",
       "      <td>102.650000</td>\n",
       "    </tr>\n",
       "    <tr>\n",
       "      <th>50%</th>\n",
       "      <td>8010.311232</td>\n",
       "      <td>102.400000</td>\n",
       "      <td>100.500000</td>\n",
       "      <td>0.038200</td>\n",
       "      <td>47767.000000</td>\n",
       "      <td>106.800000</td>\n",
       "      <td>-12.500000</td>\n",
       "      <td>-10.700000</td>\n",
       "      <td>6.100000</td>\n",
       "      <td>104.800000</td>\n",
       "      <td>103.900000</td>\n",
       "    </tr>\n",
       "    <tr>\n",
       "      <th>75%</th>\n",
       "      <td>11087.526498</td>\n",
       "      <td>104.500000</td>\n",
       "      <td>101.650000</td>\n",
       "      <td>0.057400</td>\n",
       "      <td>54456.000000</td>\n",
       "      <td>110.400000</td>\n",
       "      <td>2.250000</td>\n",
       "      <td>10.000000</td>\n",
       "      <td>8.250000</td>\n",
       "      <td>106.300000</td>\n",
       "      <td>105.300000</td>\n",
       "    </tr>\n",
       "    <tr>\n",
       "      <th>max</th>\n",
       "      <td>14988.365863</td>\n",
       "      <td>117.300000</td>\n",
       "      <td>105.800000</td>\n",
       "      <td>0.092000</td>\n",
       "      <td>68860.000000</td>\n",
       "      <td>114.500000</td>\n",
       "      <td>9.100000</td>\n",
       "      <td>18.000000</td>\n",
       "      <td>13.500000</td>\n",
       "      <td>114.400000</td>\n",
       "      <td>112.200000</td>\n",
       "    </tr>\n",
       "  </tbody>\n",
       "</table>\n",
       "</div>"
      ],
      "text/plain": [
       "              rynek  inflacja_r  inflacja_q  stopa_procentowa  \\\n",
       "count     43.000000   43.000000   43.000000         43.000000   \n",
       "mean    8969.261476  103.825581  100.983721          0.048044   \n",
       "std     2597.466115    5.054941    1.430606          0.021919   \n",
       "min     6193.211456   98.500000   99.300000          0.024200   \n",
       "25%     6800.584386  100.450000  100.050000          0.036000   \n",
       "50%     8010.311232  102.400000  100.500000          0.038200   \n",
       "75%    11087.526498  104.500000  101.650000          0.057400   \n",
       "max    14988.365863  117.300000  105.800000          0.092000   \n",
       "\n",
       "       liczba_kredytow  tempo_wzrostu     ufnosc  duze_zajupy  bezrobocie  \\\n",
       "count        43.000000      43.000000  43.000000    43.000000   43.000000   \n",
       "mean      48104.139535     107.218605 -12.034884    -7.934884    7.095349   \n",
       "std       11237.663947       3.499949  14.807766    16.879163    2.321222   \n",
       "min       18932.000000     102.100000 -43.800000   -39.600000    4.900000   \n",
       "25%       43323.000000     104.200000 -21.500000   -17.200000    5.300000   \n",
       "50%       47767.000000     106.800000 -12.500000   -10.700000    6.100000   \n",
       "75%       54456.000000     110.400000   2.250000    10.000000    8.250000   \n",
       "max       68860.000000     114.500000   9.100000    18.000000   13.500000   \n",
       "\n",
       "       spr_detaliczna         pkb  \n",
       "count       43.000000   43.000000  \n",
       "mean       103.939535  103.711628  \n",
       "std          4.513954    3.245158  \n",
       "min         89.300000   92.300000  \n",
       "25%        102.000000  102.650000  \n",
       "50%        104.800000  103.900000  \n",
       "75%        106.300000  105.300000  \n",
       "max        114.400000  112.200000  "
      ]
     },
     "execution_count": 19,
     "metadata": {},
     "output_type": "execute_result"
    }
   ],
   "source": [
    "df.describe()"
   ]
  },
  {
   "cell_type": "code",
   "execution_count": null,
   "metadata": {},
   "outputs": [],
   "source": [
    "for col in df.columns:\n",
    "\n",
    "    decomposition = sm.tsa.seasonal_decompose(df[col], model = 'additive')\n",
    "    fig = decomposition.plot()\n",
    "    fig.savefig(f\"../images/decomposition_{col}.png\")\n",
    "    plt.show()"
   ]
  },
  {
   "cell_type": "code",
   "execution_count": null,
   "metadata": {},
   "outputs": [],
   "source": [
    "for col in df.columns:\n",
    "    for lag in range(1, 5):\n",
    "        fig = plt.figure(figsize=(6,3))\n",
    "        ax = fig.gca()\n",
    "        ax.set_title(f\"{col}, lag={lag}\")\n",
    "        pd.plotting.lag_plot(series=df[col], lag=lag, ax=ax)\n",
    "        fig.savefig(f\"../images/lag_plot_{col}_{lag}.png\")"
   ]
  },
  {
   "cell_type": "code",
   "execution_count": null,
   "metadata": {},
   "outputs": [],
   "source": [
    "for col in df.columns:\n",
    "    fig = plt.figure(figsize=(6,3))\n",
    "    ax = fig.gca()\n",
    "    ax.set_title(f\"{col}\")\n",
    "    pd.plotting.autocorrelation_plot(series=df[col],  ax=ax)\n",
    "    fig.savefig(f\"../images/autocorrelation_{col}.png\")"
   ]
  },
  {
   "cell_type": "code",
   "execution_count": null,
   "metadata": {},
   "outputs": [],
   "source": [
    "for col in df.columns:\n",
    "    fig = plt.figure(figsize=(6,3))\n",
    "    ax = fig.gca()\n",
    "    ax.set_title(f\"{col}\")\n",
    "    pd.plotting.autocorrelation_plot(series=df[col],  ax=ax)\n",
    "    fig.savefig(f\"../images/autocorrelation_{col}.png\")"
   ]
  }
 ],
 "metadata": {
  "kernelspec": {
   "display_name": ".venv",
   "language": "python",
   "name": "python3"
  },
  "language_info": {
   "codemirror_mode": {
    "name": "ipython",
    "version": 3
   },
   "file_extension": ".py",
   "mimetype": "text/x-python",
   "name": "python",
   "nbconvert_exporter": "python",
   "pygments_lexer": "ipython3",
   "version": "3.12.3"
  }
 },
 "nbformat": 4,
 "nbformat_minor": 2
}
