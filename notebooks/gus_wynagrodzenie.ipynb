{
 "cells": [
  {
   "cell_type": "code",
   "execution_count": 109,
   "metadata": {},
   "outputs": [],
   "source": [
    "import datetime as dt\n",
    "import pandas as pd\n",
    "\n",
    "import os"
   ]
  },
  {
   "cell_type": "code",
   "execution_count": 110,
   "metadata": {},
   "outputs": [
    {
     "data": {
      "text/plain": [
       "(True, True)"
      ]
     },
     "execution_count": 110,
     "metadata": {},
     "output_type": "execute_result"
    }
   ],
   "source": [
    "file_path1 = \"../data/1._przecietne_miesieczne_wynagrodzenia_brutto_w_gospodarce_narodowej_i_sektorze_przedsiebiorstw_-_dane_kwartalne_2.csv\"\n",
    "file_path2 = \"../data/3._przecietne_zatrudnienie_ogolem_i_w_sektorze_przedsiebiorstw_-_dane_kwartalne_2.csv\"\n",
    "os.path.isfile(file_path1), os.path.isfile(file_path2)"
   ]
  },
  {
   "cell_type": "code",
   "execution_count": 111,
   "metadata": {},
   "outputs": [
    {
     "data": {
      "text/html": [
       "<div>\n",
       "<style scoped>\n",
       "    .dataframe tbody tr th:only-of-type {\n",
       "        vertical-align: middle;\n",
       "    }\n",
       "\n",
       "    .dataframe tbody tr th {\n",
       "        vertical-align: top;\n",
       "    }\n",
       "\n",
       "    .dataframe thead th {\n",
       "        text-align: right;\n",
       "    }\n",
       "</style>\n",
       "<table border=\"1\" class=\"dataframe\">\n",
       "  <thead>\n",
       "    <tr style=\"text-align: right;\">\n",
       "      <th></th>\n",
       "      <th>Zmienna</th>\n",
       "      <th>Jednostka terytorialna</th>\n",
       "      <th>Jednostka</th>\n",
       "      <th>Rok</th>\n",
       "      <th>Kwartał</th>\n",
       "      <th>Wartoć</th>\n",
       "    </tr>\n",
       "  </thead>\n",
       "  <tbody>\n",
       "    <tr>\n",
       "      <th>0</th>\n",
       "      <td>Przeciętne miesięczne wynagrodzenia brutto w g...</td>\n",
       "      <td>Polska</td>\n",
       "      <td>zł</td>\n",
       "      <td>2010</td>\n",
       "      <td>1</td>\n",
       "      <td>3241,88</td>\n",
       "    </tr>\n",
       "    <tr>\n",
       "      <th>1</th>\n",
       "      <td>Przeciętne miesięczne wynagrodzenia brutto w g...</td>\n",
       "      <td>Polska</td>\n",
       "      <td>zł</td>\n",
       "      <td>2010</td>\n",
       "      <td>2</td>\n",
       "      <td>3270,87</td>\n",
       "    </tr>\n",
       "    <tr>\n",
       "      <th>2</th>\n",
       "      <td>Przeciętne miesięczne wynagrodzenia brutto w g...</td>\n",
       "      <td>Polska</td>\n",
       "      <td>zł</td>\n",
       "      <td>2010</td>\n",
       "      <td>3</td>\n",
       "      <td>3258,95</td>\n",
       "    </tr>\n",
       "    <tr>\n",
       "      <th>3</th>\n",
       "      <td>Przeciętne miesięczne wynagrodzenia brutto w g...</td>\n",
       "      <td>Polska</td>\n",
       "      <td>zł</td>\n",
       "      <td>2010</td>\n",
       "      <td>4</td>\n",
       "      <td>3371,07</td>\n",
       "    </tr>\n",
       "    <tr>\n",
       "      <th>4</th>\n",
       "      <td>Przeciętne miesięczne wynagrodzenia brutto w g...</td>\n",
       "      <td>Polska</td>\n",
       "      <td>zł</td>\n",
       "      <td>2011</td>\n",
       "      <td>1</td>\n",
       "      <td>3392</td>\n",
       "    </tr>\n",
       "  </tbody>\n",
       "</table>\n",
       "</div>"
      ],
      "text/plain": [
       "                                             Zmienna Jednostka terytorialna  \\\n",
       "0  Przeciętne miesięczne wynagrodzenia brutto w g...                 Polska   \n",
       "1  Przeciętne miesięczne wynagrodzenia brutto w g...                 Polska   \n",
       "2  Przeciętne miesięczne wynagrodzenia brutto w g...                 Polska   \n",
       "3  Przeciętne miesięczne wynagrodzenia brutto w g...                 Polska   \n",
       "4  Przeciętne miesięczne wynagrodzenia brutto w g...                 Polska   \n",
       "\n",
       "  Jednostka   Rok  Kwartał  Wartoć  \n",
       "0        zł  2010        1  3241,88  \n",
       "1        zł  2010        2  3270,87  \n",
       "2        zł  2010        3  3258,95  \n",
       "3        zł  2010        4  3371,07  \n",
       "4        zł  2011        1     3392  "
      ]
     },
     "execution_count": 111,
     "metadata": {},
     "output_type": "execute_result"
    }
   ],
   "source": [
    "df_wynag = pd.read_csv(file_path1, header=0, encoding='latin2', delimiter=\";\")\n",
    "df_wynag.head(5)"
   ]
  },
  {
   "cell_type": "markdown",
   "metadata": {},
   "source": [
    "Możemy użyć metody `stepwise_selection` z pakietu _dmba_."
   ]
  },
  {
   "cell_type": "code",
   "execution_count": 112,
   "metadata": {},
   "outputs": [
    {
     "data": {
      "text/plain": [
       "array(['Przeciętne miesięczne wynagrodzenia brutto w gospodarce narodowej',\n",
       "       'Przeciętne miesięczne wynagrodzenia brutto w sektorze przedsiębiorstw'],\n",
       "      dtype=object)"
      ]
     },
     "execution_count": 112,
     "metadata": {},
     "output_type": "execute_result"
    }
   ],
   "source": [
    "df_wynag[\"Zmienna\"].unique()"
   ]
  },
  {
   "cell_type": "code",
   "execution_count": 113,
   "metadata": {},
   "outputs": [
    {
     "name": "stdout",
     "output_type": "stream",
     "text": [
      "(2010, 1)                                               Zmienna Jednostka terytorialna  \\\n",
      "0   Przeciętne miesięczne wynagrodzenia brutto w g...                 Polska   \n",
      "59  Przeciętne miesięczne wynagrodzenia brutto w s...                 Polska   \n",
      "\n",
      "   Jednostka   Rok  Kwartał  Wartoć  \n",
      "0         zł  2010        1  3241,88  \n",
      "59        zł  2010        1  3382,45  \n"
     ]
    }
   ],
   "source": [
    "for ind, gr in df_wynag.groupby([\"Rok\", \"Kwartał\"]):\n",
    "    print(ind, gr)\n",
    "    break"
   ]
  },
  {
   "cell_type": "code",
   "execution_count": 114,
   "metadata": {},
   "outputs": [
    {
     "data": {
      "text/html": [
       "<div>\n",
       "<style scoped>\n",
       "    .dataframe tbody tr th:only-of-type {\n",
       "        vertical-align: middle;\n",
       "    }\n",
       "\n",
       "    .dataframe tbody tr th {\n",
       "        vertical-align: top;\n",
       "    }\n",
       "\n",
       "    .dataframe thead th {\n",
       "        text-align: right;\n",
       "    }\n",
       "</style>\n",
       "<table border=\"1\" class=\"dataframe\">\n",
       "  <thead>\n",
       "    <tr style=\"text-align: right;\">\n",
       "      <th></th>\n",
       "      <th>Zmienna</th>\n",
       "      <th>Jednostka terytorialna</th>\n",
       "      <th>Jednostka</th>\n",
       "      <th>Rok</th>\n",
       "      <th>Kwartał</th>\n",
       "      <th>Wartoć</th>\n",
       "    </tr>\n",
       "  </thead>\n",
       "  <tbody>\n",
       "    <tr>\n",
       "      <th>0</th>\n",
       "      <td>Przeciętne zatrudnienie ogółem</td>\n",
       "      <td>Polska</td>\n",
       "      <td>tysišce</td>\n",
       "      <td>2010</td>\n",
       "      <td>1</td>\n",
       "      <td>8034</td>\n",
       "    </tr>\n",
       "    <tr>\n",
       "      <th>1</th>\n",
       "      <td>Przeciętne zatrudnienie ogółem</td>\n",
       "      <td>Polska</td>\n",
       "      <td>tysišce</td>\n",
       "      <td>2010</td>\n",
       "      <td>2</td>\n",
       "      <td>8110</td>\n",
       "    </tr>\n",
       "    <tr>\n",
       "      <th>2</th>\n",
       "      <td>Przeciętne zatrudnienie ogółem</td>\n",
       "      <td>Polska</td>\n",
       "      <td>tysišce</td>\n",
       "      <td>2010</td>\n",
       "      <td>3</td>\n",
       "      <td>8176</td>\n",
       "    </tr>\n",
       "    <tr>\n",
       "      <th>3</th>\n",
       "      <td>Przeciętne zatrudnienie ogółem</td>\n",
       "      <td>Polska</td>\n",
       "      <td>tysišce</td>\n",
       "      <td>2010</td>\n",
       "      <td>4</td>\n",
       "      <td>8214</td>\n",
       "    </tr>\n",
       "    <tr>\n",
       "      <th>4</th>\n",
       "      <td>Przeciętne zatrudnienie ogółem</td>\n",
       "      <td>Polska</td>\n",
       "      <td>tysišce</td>\n",
       "      <td>2011</td>\n",
       "      <td>1</td>\n",
       "      <td>8264</td>\n",
       "    </tr>\n",
       "  </tbody>\n",
       "</table>\n",
       "</div>"
      ],
      "text/plain": [
       "                          Zmienna Jednostka terytorialna Jednostka   Rok  \\\n",
       "0  Przeciętne zatrudnienie ogółem                 Polska   tysišce  2010   \n",
       "1  Przeciętne zatrudnienie ogółem                 Polska   tysišce  2010   \n",
       "2  Przeciętne zatrudnienie ogółem                 Polska   tysišce  2010   \n",
       "3  Przeciętne zatrudnienie ogółem                 Polska   tysišce  2010   \n",
       "4  Przeciętne zatrudnienie ogółem                 Polska   tysišce  2011   \n",
       "\n",
       "   Kwartał  Wartoć  \n",
       "0        1     8034  \n",
       "1        2     8110  \n",
       "2        3     8176  \n",
       "3        4     8214  \n",
       "4        1     8264  "
      ]
     },
     "execution_count": 114,
     "metadata": {},
     "output_type": "execute_result"
    }
   ],
   "source": [
    "df_zatrud = pd.read_csv(file_path2, header=0, encoding='latin2', delimiter=\";\")\n",
    "df_zatrud.head(5)"
   ]
  },
  {
   "cell_type": "code",
   "execution_count": 115,
   "metadata": {},
   "outputs": [
    {
     "name": "stdout",
     "output_type": "stream",
     "text": [
      "(2010, 1)                                               Zmienna Jednostka terytorialna  \\\n",
      "0                      Przeciętne zatrudnienie ogółem                 Polska   \n",
      "58  Przeciętne zatrudnienie w sektorze przedsiębio...                 Polska   \n",
      "\n",
      "   Jednostka   Rok  Kwartał  Wartoć  \n",
      "0    tysišce  2010        1     8034  \n",
      "58   tysišce  2010        1     5304  \n"
     ]
    }
   ],
   "source": [
    "for ind, gr in df_zatrud.groupby([\"Rok\", \"Kwartał\"]):\n",
    "    print(ind, gr)\n",
    "    break"
   ]
  },
  {
   "cell_type": "code",
   "execution_count": 116,
   "metadata": {},
   "outputs": [
    {
     "data": {
      "text/plain": [
       "(Index(['Zmienna_x', 'Rok', 'Kwartał', 'Wartoć_x', 'Zmienna_y', 'Wartoć_y'], dtype='object'),\n",
       "                                            Zmienna_x   Rok  Kwartał Wartoć_x  \\\n",
       " 0  Przeciętne miesięczne wynagrodzenia brutto w g...  2010        1   3241,88   \n",
       " 1  Przeciętne miesięczne wynagrodzenia brutto w g...  2010        1   3241,88   \n",
       " 2  Przeciętne miesięczne wynagrodzenia brutto w g...  2010        2   3270,87   \n",
       " 3  Przeciętne miesięczne wynagrodzenia brutto w g...  2010        2   3270,87   \n",
       " 4  Przeciętne miesięczne wynagrodzenia brutto w g...  2010        3   3258,95   \n",
       " \n",
       "                                            Zmienna_y  Wartoć_y  \n",
       " 0                     Przeciętne zatrudnienie ogółem       8034  \n",
       " 1  Przeciętne zatrudnienie w sektorze przedsiębio...       5304  \n",
       " 2                     Przeciętne zatrudnienie ogółem       8110  \n",
       " 3  Przeciętne zatrudnienie w sektorze przedsiębio...       5351  \n",
       " 4                     Przeciętne zatrudnienie ogółem       8176  )"
      ]
     },
     "execution_count": 116,
     "metadata": {},
     "output_type": "execute_result"
    }
   ],
   "source": [
    "df = pd.merge(left=df_wynag, right=df_zatrud, on=[\"Rok\", \"Kwartał\",  \"Jednostka terytorialna\"])\n",
    "df.drop(['Jednostka terytorialna', 'Jednostka_x', 'Jednostka_y'], axis=1, inplace=True)\n",
    "df.columns, df.head()\n"
   ]
  },
  {
   "cell_type": "code",
   "execution_count": 117,
   "metadata": {},
   "outputs": [
    {
     "data": {
      "text/plain": [
       "Index(['Zmienna_x', 'Rok', 'Kwartał', 'Wartoć_x', 'Zmienna_y', 'Wartoć_y'], dtype='object')"
      ]
     },
     "execution_count": 117,
     "metadata": {},
     "output_type": "execute_result"
    }
   ],
   "source": [
    "df.columns"
   ]
  },
  {
   "cell_type": "code",
   "execution_count": 118,
   "metadata": {},
   "outputs": [
    {
     "data": {
      "text/plain": [
       "(array(['Przeciętne miesięczne wynagrodzenia brutto w gospodarce narodowej',\n",
       "        'Przeciętne miesięczne wynagrodzenia brutto w sektorze przedsiębiorstw'],\n",
       "       dtype=object),\n",
       " array(['Przeciętne zatrudnienie ogółem',\n",
       "        'Przeciętne zatrudnienie w sektorze przedsiębiorstw'], dtype=object))"
      ]
     },
     "execution_count": 118,
     "metadata": {},
     "output_type": "execute_result"
    }
   ],
   "source": [
    "df[\"Zmienna_x\"].unique(), df[\"Zmienna_y\"].unique()"
   ]
  },
  {
   "cell_type": "code",
   "execution_count": 119,
   "metadata": {},
   "outputs": [
    {
     "data": {
      "text/plain": [
       "{'Przeciętne miesięczne wynagrodzenia brutto w gospodarce narodowej': 'wynag_gosp',\n",
       " 'Przeciętne miesięczne wynagrodzenia brutto w sektorze przedsiębiorstw': 'wynag_przed',\n",
       " 'Przeciętne zatrudnienie ogółem': 'zatrud_ogolem',\n",
       " 'Przeciętne zatrudnienie w sektorze przedsiębiorstw': 'zatrud_przed'}"
      ]
     },
     "execution_count": 119,
     "metadata": {},
     "output_type": "execute_result"
    }
   ],
   "source": [
    "_dct = {\n",
    "    'Przeciętne miesięczne wynagrodzenia brutto w gospodarce narodowej': \"wynag_gosp\",\n",
    "    'Przeciętne miesięczne wynagrodzenia brutto w sektorze przedsiębiorstw': \"wynag_przed\",\n",
    "    'Przeciętne zatrudnienie ogółem': \"zatrud_ogolem\",\n",
    "    'Przeciętne zatrudnienie w sektorze przedsiębiorstw': \"zatrud_przed\"\n",
    "}\n",
    "_dct"
   ]
  },
  {
   "cell_type": "code",
   "execution_count": 120,
   "metadata": {},
   "outputs": [],
   "source": [
    "fds = {}\n",
    "for ind, gr in df.groupby([\"Rok\", \"Kwartał\"]):\n",
    "    date = dt.datetime(year=ind[0], month=1, day=1) + pd.offsets.QuarterEnd(ind[1])\n",
    "    d = {v: None for v in _dct.values()}\n",
    "    for row in gr.itertuples():\n",
    "        if d[_dct[row[1]]] is None:\n",
    "            d[_dct[row[1]]] = row[4]\n",
    "        if d[_dct[row[5]]] is None:\n",
    "            d[_dct[row[5]]] = row[6]\n",
    "    fds[date] = d"
   ]
  },
  {
   "cell_type": "code",
   "execution_count": 121,
   "metadata": {},
   "outputs": [
    {
     "data": {
      "text/html": [
       "<div>\n",
       "<style scoped>\n",
       "    .dataframe tbody tr th:only-of-type {\n",
       "        vertical-align: middle;\n",
       "    }\n",
       "\n",
       "    .dataframe tbody tr th {\n",
       "        vertical-align: top;\n",
       "    }\n",
       "\n",
       "    .dataframe thead th {\n",
       "        text-align: right;\n",
       "    }\n",
       "</style>\n",
       "<table border=\"1\" class=\"dataframe\">\n",
       "  <thead>\n",
       "    <tr style=\"text-align: right;\">\n",
       "      <th></th>\n",
       "      <th>wynag_gosp</th>\n",
       "      <th>wynag_przed</th>\n",
       "      <th>zatrud_ogolem</th>\n",
       "      <th>zatrud_przed</th>\n",
       "    </tr>\n",
       "  </thead>\n",
       "  <tbody>\n",
       "    <tr>\n",
       "      <th>2010-03-31</th>\n",
       "      <td>3241,88</td>\n",
       "      <td>3382,45</td>\n",
       "      <td>8034</td>\n",
       "      <td>5304</td>\n",
       "    </tr>\n",
       "    <tr>\n",
       "      <th>2010-06-30</th>\n",
       "      <td>3270,87</td>\n",
       "      <td>3420,32</td>\n",
       "      <td>8110</td>\n",
       "      <td>5351</td>\n",
       "    </tr>\n",
       "    <tr>\n",
       "      <th>2010-09-30</th>\n",
       "      <td>3258,95</td>\n",
       "      <td>3424,61</td>\n",
       "      <td>8176</td>\n",
       "      <td>5392</td>\n",
       "    </tr>\n",
       "    <tr>\n",
       "      <th>2010-12-31</th>\n",
       "      <td>3371,07</td>\n",
       "      <td>3499,96</td>\n",
       "      <td>8214</td>\n",
       "      <td>5449</td>\n",
       "    </tr>\n",
       "    <tr>\n",
       "      <th>2011-03-31</th>\n",
       "      <td>3392</td>\n",
       "      <td>3521,75</td>\n",
       "      <td>8264</td>\n",
       "      <td>5512</td>\n",
       "    </tr>\n",
       "  </tbody>\n",
       "</table>\n",
       "</div>"
      ],
      "text/plain": [
       "           wynag_gosp wynag_przed zatrud_ogolem zatrud_przed\n",
       "2010-03-31    3241,88     3382,45          8034         5304\n",
       "2010-06-30    3270,87     3420,32          8110         5351\n",
       "2010-09-30    3258,95     3424,61          8176         5392\n",
       "2010-12-31    3371,07     3499,96          8214         5449\n",
       "2011-03-31       3392     3521,75          8264         5512"
      ]
     },
     "execution_count": 121,
     "metadata": {},
     "output_type": "execute_result"
    }
   ],
   "source": [
    "ndf = pd.DataFrame(data=fds).T\n",
    "ndf.head()"
   ]
  },
  {
   "cell_type": "code",
   "execution_count": 122,
   "metadata": {},
   "outputs": [
    {
     "data": {
      "text/plain": [
       "((59, 4),\n",
       " DatetimeIndex(['2010-03-31', '2010-06-30', '2010-09-30', '2010-12-31',\n",
       "                '2011-03-31', '2011-06-30', '2011-09-30', '2011-12-31',\n",
       "                '2012-03-31', '2012-06-30', '2012-09-30', '2012-12-31',\n",
       "                '2013-03-31', '2013-06-30', '2013-09-30', '2013-12-31',\n",
       "                '2014-03-31', '2014-06-30', '2014-09-30', '2014-12-31',\n",
       "                '2015-03-31', '2015-06-30', '2015-09-30', '2015-12-31',\n",
       "                '2016-03-31', '2016-06-30', '2016-09-30', '2016-12-31',\n",
       "                '2017-03-31', '2017-06-30', '2017-09-30', '2017-12-31',\n",
       "                '2018-03-31', '2018-06-30', '2018-09-30', '2018-12-31',\n",
       "                '2019-03-31', '2019-06-30', '2019-09-30', '2019-12-31',\n",
       "                '2020-03-31', '2020-06-30', '2020-09-30', '2020-12-31',\n",
       "                '2021-03-31', '2021-06-30', '2021-09-30', '2021-12-31',\n",
       "                '2022-03-31', '2022-06-30', '2022-09-30', '2022-12-31',\n",
       "                '2023-03-31', '2023-06-30', '2023-09-30', '2023-12-31',\n",
       "                '2024-03-31', '2024-06-30', '2024-09-30'],\n",
       "               dtype='datetime64[ns]', freq=None),\n",
       " Index(['wynag_gosp', 'wynag_przed', 'zatrud_ogolem', 'zatrud_przed'], dtype='object'))"
      ]
     },
     "execution_count": 122,
     "metadata": {},
     "output_type": "execute_result"
    }
   ],
   "source": [
    "ndf.shape, ndf.index, ndf.columns"
   ]
  },
  {
   "cell_type": "code",
   "execution_count": 123,
   "metadata": {},
   "outputs": [
    {
     "data": {
      "text/html": [
       "<div>\n",
       "<style scoped>\n",
       "    .dataframe tbody tr th:only-of-type {\n",
       "        vertical-align: middle;\n",
       "    }\n",
       "\n",
       "    .dataframe tbody tr th {\n",
       "        vertical-align: top;\n",
       "    }\n",
       "\n",
       "    .dataframe thead th {\n",
       "        text-align: right;\n",
       "    }\n",
       "</style>\n",
       "<table border=\"1\" class=\"dataframe\">\n",
       "  <thead>\n",
       "    <tr style=\"text-align: right;\">\n",
       "      <th></th>\n",
       "      <th>wynag_gosp</th>\n",
       "      <th>wynag_przed</th>\n",
       "      <th>zatrud_ogolem</th>\n",
       "      <th>zatrud_przed</th>\n",
       "      <th>zatrud_gosp</th>\n",
       "    </tr>\n",
       "  </thead>\n",
       "  <tbody>\n",
       "    <tr>\n",
       "      <th>2010-03-31</th>\n",
       "      <td>3241,88</td>\n",
       "      <td>3382,45</td>\n",
       "      <td>8034</td>\n",
       "      <td>5304</td>\n",
       "      <td>2730</td>\n",
       "    </tr>\n",
       "    <tr>\n",
       "      <th>2010-06-30</th>\n",
       "      <td>3270,87</td>\n",
       "      <td>3420,32</td>\n",
       "      <td>8110</td>\n",
       "      <td>5351</td>\n",
       "      <td>2759</td>\n",
       "    </tr>\n",
       "    <tr>\n",
       "      <th>2010-09-30</th>\n",
       "      <td>3258,95</td>\n",
       "      <td>3424,61</td>\n",
       "      <td>8176</td>\n",
       "      <td>5392</td>\n",
       "      <td>2784</td>\n",
       "    </tr>\n",
       "    <tr>\n",
       "      <th>2010-12-31</th>\n",
       "      <td>3371,07</td>\n",
       "      <td>3499,96</td>\n",
       "      <td>8214</td>\n",
       "      <td>5449</td>\n",
       "      <td>2765</td>\n",
       "    </tr>\n",
       "    <tr>\n",
       "      <th>2011-03-31</th>\n",
       "      <td>3392</td>\n",
       "      <td>3521,75</td>\n",
       "      <td>8264</td>\n",
       "      <td>5512</td>\n",
       "      <td>2752</td>\n",
       "    </tr>\n",
       "  </tbody>\n",
       "</table>\n",
       "</div>"
      ],
      "text/plain": [
       "           wynag_gosp wynag_przed zatrud_ogolem zatrud_przed zatrud_gosp\n",
       "2010-03-31    3241,88     3382,45          8034         5304        2730\n",
       "2010-06-30    3270,87     3420,32          8110         5351        2759\n",
       "2010-09-30    3258,95     3424,61          8176         5392        2784\n",
       "2010-12-31    3371,07     3499,96          8214         5449        2765\n",
       "2011-03-31       3392     3521,75          8264         5512        2752"
      ]
     },
     "execution_count": 123,
     "metadata": {},
     "output_type": "execute_result"
    }
   ],
   "source": [
    "ndf[\"zatrud_gosp\"] = ndf[\"zatrud_ogolem\"] - ndf[\"zatrud_przed\"]\n",
    "ndf.head()"
   ]
  },
  {
   "cell_type": "code",
   "execution_count": 124,
   "metadata": {},
   "outputs": [
    {
     "data": {
      "text/plain": [
       "(wynag_gosp       float64\n",
       " wynag_przed      float64\n",
       " zatrud_ogolem    float64\n",
       " zatrud_przed     float64\n",
       " zatrud_gosp      float64\n",
       " dtype: object,\n",
       "             wynag_gosp  wynag_przed  zatrud_ogolem  zatrud_przed  zatrud_gosp\n",
       " 2010-03-31     3241.88      3382.45         8034.0        5304.0       2730.0\n",
       " 2010-06-30     3270.87      3420.32         8110.0        5351.0       2759.0\n",
       " 2010-09-30     3258.95      3424.61         8176.0        5392.0       2784.0\n",
       " 2010-12-31     3371.07      3499.96         8214.0        5449.0       2765.0\n",
       " 2011-03-31     3392.00      3521.75         8264.0        5512.0       2752.0)"
      ]
     },
     "execution_count": 124,
     "metadata": {},
     "output_type": "execute_result"
    }
   ],
   "source": [
    "ndf.wynag_gosp = ndf.wynag_gosp.apply(lambda r: r.replace(\",\", \".\")).astype(float)\n",
    "ndf.wynag_przed = ndf.wynag_przed.apply(lambda r: r.replace(\",\", \".\")).astype(float)\n",
    "ndf= ndf.astype(float)\n",
    "ndf.dtypes, ndf.head()"
   ]
  },
  {
   "cell_type": "code",
   "execution_count": 125,
   "metadata": {},
   "outputs": [
    {
     "data": {
      "text/html": [
       "<div>\n",
       "<style scoped>\n",
       "    .dataframe tbody tr th:only-of-type {\n",
       "        vertical-align: middle;\n",
       "    }\n",
       "\n",
       "    .dataframe tbody tr th {\n",
       "        vertical-align: top;\n",
       "    }\n",
       "\n",
       "    .dataframe thead th {\n",
       "        text-align: right;\n",
       "    }\n",
       "</style>\n",
       "<table border=\"1\" class=\"dataframe\">\n",
       "  <thead>\n",
       "    <tr style=\"text-align: right;\">\n",
       "      <th></th>\n",
       "      <th>wynag_gosp</th>\n",
       "      <th>wynag_przed</th>\n",
       "      <th>zatrud_ogolem</th>\n",
       "      <th>zatrud_przed</th>\n",
       "      <th>zatrud_gosp</th>\n",
       "      <th>wynag</th>\n",
       "    </tr>\n",
       "  </thead>\n",
       "  <tbody>\n",
       "    <tr>\n",
       "      <th>2010-03-31</th>\n",
       "      <td>3241.88</td>\n",
       "      <td>3382.45</td>\n",
       "      <td>8034.0</td>\n",
       "      <td>5304.0</td>\n",
       "      <td>2730.0</td>\n",
       "      <td>3334.683495</td>\n",
       "    </tr>\n",
       "    <tr>\n",
       "      <th>2010-06-30</th>\n",
       "      <td>3270.87</td>\n",
       "      <td>3420.32</td>\n",
       "      <td>8110.0</td>\n",
       "      <td>5351.0</td>\n",
       "      <td>2759.0</td>\n",
       "      <td>3369.477515</td>\n",
       "    </tr>\n",
       "    <tr>\n",
       "      <th>2010-09-30</th>\n",
       "      <td>3258.95</td>\n",
       "      <td>3424.61</td>\n",
       "      <td>8176.0</td>\n",
       "      <td>5392.0</td>\n",
       "      <td>2784.0</td>\n",
       "      <td>3368.201311</td>\n",
       "    </tr>\n",
       "    <tr>\n",
       "      <th>2010-12-31</th>\n",
       "      <td>3371.07</td>\n",
       "      <td>3499.96</td>\n",
       "      <td>8214.0</td>\n",
       "      <td>5449.0</td>\n",
       "      <td>2765.0</td>\n",
       "      <td>3456.572996</td>\n",
       "    </tr>\n",
       "    <tr>\n",
       "      <th>2011-03-31</th>\n",
       "      <td>3392.00</td>\n",
       "      <td>3521.75</td>\n",
       "      <td>8264.0</td>\n",
       "      <td>5512.0</td>\n",
       "      <td>2752.0</td>\n",
       "      <td>3478.541868</td>\n",
       "    </tr>\n",
       "  </tbody>\n",
       "</table>\n",
       "</div>"
      ],
      "text/plain": [
       "            wynag_gosp  wynag_przed  zatrud_ogolem  zatrud_przed  zatrud_gosp  \\\n",
       "2010-03-31     3241.88      3382.45         8034.0        5304.0       2730.0   \n",
       "2010-06-30     3270.87      3420.32         8110.0        5351.0       2759.0   \n",
       "2010-09-30     3258.95      3424.61         8176.0        5392.0       2784.0   \n",
       "2010-12-31     3371.07      3499.96         8214.0        5449.0       2765.0   \n",
       "2011-03-31     3392.00      3521.75         8264.0        5512.0       2752.0   \n",
       "\n",
       "                  wynag  \n",
       "2010-03-31  3334.683495  \n",
       "2010-06-30  3369.477515  \n",
       "2010-09-30  3368.201311  \n",
       "2010-12-31  3456.572996  \n",
       "2011-03-31  3478.541868  "
      ]
     },
     "execution_count": 125,
     "metadata": {},
     "output_type": "execute_result"
    }
   ],
   "source": [
    "ndf[\"wynag\"] = (ndf.wynag_gosp * ndf.zatrud_gosp + ndf.wynag_przed * ndf.zatrud_przed) / ndf.zatrud_ogolem\n",
    "ndf.head()"
   ]
  },
  {
   "cell_type": "code",
   "execution_count": 126,
   "metadata": {},
   "outputs": [
    {
     "data": {
      "text/html": [
       "<div>\n",
       "<style scoped>\n",
       "    .dataframe tbody tr th:only-of-type {\n",
       "        vertical-align: middle;\n",
       "    }\n",
       "\n",
       "    .dataframe tbody tr th {\n",
       "        vertical-align: top;\n",
       "    }\n",
       "\n",
       "    .dataframe thead th {\n",
       "        text-align: right;\n",
       "    }\n",
       "</style>\n",
       "<table border=\"1\" class=\"dataframe\">\n",
       "  <thead>\n",
       "    <tr style=\"text-align: right;\">\n",
       "      <th></th>\n",
       "      <th>wynag_gosp</th>\n",
       "      <th>wynag_przed</th>\n",
       "      <th>zatrud_ogolem</th>\n",
       "      <th>zatrud_przed</th>\n",
       "      <th>zatrud_gosp</th>\n",
       "      <th>wynag</th>\n",
       "    </tr>\n",
       "  </thead>\n",
       "  <tbody>\n",
       "    <tr>\n",
       "      <th>2023-09-30</th>\n",
       "      <td>7351.07</td>\n",
       "      <td>7563.31</td>\n",
       "      <td>9400.0</td>\n",
       "      <td>6526.0</td>\n",
       "      <td>2874.0</td>\n",
       "      <td>7498.418749</td>\n",
       "    </tr>\n",
       "    <tr>\n",
       "      <th>2023-12-31</th>\n",
       "      <td>7566.93</td>\n",
       "      <td>7737.15</td>\n",
       "      <td>9407.0</td>\n",
       "      <td>6518.0</td>\n",
       "      <td>2889.0</td>\n",
       "      <td>7684.873442</td>\n",
       "    </tr>\n",
       "    <tr>\n",
       "      <th>2024-03-31</th>\n",
       "      <td>7848.93</td>\n",
       "      <td>8001.09</td>\n",
       "      <td>9404.0</td>\n",
       "      <td>6516.0</td>\n",
       "      <td>2888.0</td>\n",
       "      <td>7954.361153</td>\n",
       "    </tr>\n",
       "    <tr>\n",
       "      <th>2024-06-30</th>\n",
       "      <td>8107.04</td>\n",
       "      <td>8161.60</td>\n",
       "      <td>9405.0</td>\n",
       "      <td>6510.0</td>\n",
       "      <td>2895.0</td>\n",
       "      <td>8144.805614</td>\n",
       "    </tr>\n",
       "    <tr>\n",
       "      <th>2024-09-30</th>\n",
       "      <td>8349.35</td>\n",
       "      <td>8381.15</td>\n",
       "      <td>NaN</td>\n",
       "      <td>6516.0</td>\n",
       "      <td>NaN</td>\n",
       "      <td>NaN</td>\n",
       "    </tr>\n",
       "  </tbody>\n",
       "</table>\n",
       "</div>"
      ],
      "text/plain": [
       "            wynag_gosp  wynag_przed  zatrud_ogolem  zatrud_przed  zatrud_gosp  \\\n",
       "2023-09-30     7351.07      7563.31         9400.0        6526.0       2874.0   \n",
       "2023-12-31     7566.93      7737.15         9407.0        6518.0       2889.0   \n",
       "2024-03-31     7848.93      8001.09         9404.0        6516.0       2888.0   \n",
       "2024-06-30     8107.04      8161.60         9405.0        6510.0       2895.0   \n",
       "2024-09-30     8349.35      8381.15            NaN        6516.0          NaN   \n",
       "\n",
       "                  wynag  \n",
       "2023-09-30  7498.418749  \n",
       "2023-12-31  7684.873442  \n",
       "2024-03-31  7954.361153  \n",
       "2024-06-30  8144.805614  \n",
       "2024-09-30          NaN  "
      ]
     },
     "execution_count": 126,
     "metadata": {},
     "output_type": "execute_result"
    }
   ],
   "source": [
    "ndf.tail()"
   ]
  },
  {
   "cell_type": "code",
   "execution_count": 127,
   "metadata": {},
   "outputs": [
    {
     "data": {
      "text/html": [
       "<div>\n",
       "<style scoped>\n",
       "    .dataframe tbody tr th:only-of-type {\n",
       "        vertical-align: middle;\n",
       "    }\n",
       "\n",
       "    .dataframe tbody tr th {\n",
       "        vertical-align: top;\n",
       "    }\n",
       "\n",
       "    .dataframe thead th {\n",
       "        text-align: right;\n",
       "    }\n",
       "</style>\n",
       "<table border=\"1\" class=\"dataframe\">\n",
       "  <thead>\n",
       "    <tr style=\"text-align: right;\">\n",
       "      <th></th>\n",
       "      <th>wynag_gosp</th>\n",
       "      <th>wynag_przed</th>\n",
       "      <th>zatrud_ogolem</th>\n",
       "      <th>zatrud_przed</th>\n",
       "      <th>zatrud_gosp</th>\n",
       "      <th>wynag</th>\n",
       "    </tr>\n",
       "  </thead>\n",
       "  <tbody>\n",
       "    <tr>\n",
       "      <th>2023-06-30</th>\n",
       "      <td>7108.18</td>\n",
       "      <td>7353.18</td>\n",
       "      <td>9400.0</td>\n",
       "      <td>6535.0</td>\n",
       "      <td>2865.0</td>\n",
       "      <td>7278.507128</td>\n",
       "    </tr>\n",
       "    <tr>\n",
       "      <th>2023-09-30</th>\n",
       "      <td>7351.07</td>\n",
       "      <td>7563.31</td>\n",
       "      <td>9400.0</td>\n",
       "      <td>6526.0</td>\n",
       "      <td>2874.0</td>\n",
       "      <td>7498.418749</td>\n",
       "    </tr>\n",
       "    <tr>\n",
       "      <th>2023-12-31</th>\n",
       "      <td>7566.93</td>\n",
       "      <td>7737.15</td>\n",
       "      <td>9407.0</td>\n",
       "      <td>6518.0</td>\n",
       "      <td>2889.0</td>\n",
       "      <td>7684.873442</td>\n",
       "    </tr>\n",
       "    <tr>\n",
       "      <th>2024-03-31</th>\n",
       "      <td>7848.93</td>\n",
       "      <td>8001.09</td>\n",
       "      <td>9404.0</td>\n",
       "      <td>6516.0</td>\n",
       "      <td>2888.0</td>\n",
       "      <td>7954.361153</td>\n",
       "    </tr>\n",
       "    <tr>\n",
       "      <th>2024-06-30</th>\n",
       "      <td>8107.04</td>\n",
       "      <td>8161.60</td>\n",
       "      <td>9405.0</td>\n",
       "      <td>6510.0</td>\n",
       "      <td>2895.0</td>\n",
       "      <td>8144.805614</td>\n",
       "    </tr>\n",
       "  </tbody>\n",
       "</table>\n",
       "</div>"
      ],
      "text/plain": [
       "            wynag_gosp  wynag_przed  zatrud_ogolem  zatrud_przed  zatrud_gosp  \\\n",
       "2023-06-30     7108.18      7353.18         9400.0        6535.0       2865.0   \n",
       "2023-09-30     7351.07      7563.31         9400.0        6526.0       2874.0   \n",
       "2023-12-31     7566.93      7737.15         9407.0        6518.0       2889.0   \n",
       "2024-03-31     7848.93      8001.09         9404.0        6516.0       2888.0   \n",
       "2024-06-30     8107.04      8161.60         9405.0        6510.0       2895.0   \n",
       "\n",
       "                  wynag  \n",
       "2023-06-30  7278.507128  \n",
       "2023-09-30  7498.418749  \n",
       "2023-12-31  7684.873442  \n",
       "2024-03-31  7954.361153  \n",
       "2024-06-30  8144.805614  "
      ]
     },
     "execution_count": 127,
     "metadata": {},
     "output_type": "execute_result"
    }
   ],
   "source": [
    "ndf = ndf.loc[~ndf[\"wynag\"].isna()]\n",
    "ndf.tail()"
   ]
  },
  {
   "cell_type": "code",
   "execution_count": 128,
   "metadata": {},
   "outputs": [],
   "source": [
    "ndf.to_csv(\"../data/wynagrodzenie.csv\")"
   ]
  }
 ],
 "metadata": {
  "kernelspec": {
   "display_name": ".venv",
   "language": "python",
   "name": "python3"
  },
  "language_info": {
   "codemirror_mode": {
    "name": "ipython",
    "version": 3
   },
   "file_extension": ".py",
   "mimetype": "text/x-python",
   "name": "python",
   "nbconvert_exporter": "python",
   "pygments_lexer": "ipython3",
   "version": "3.12.3"
  }
 },
 "nbformat": 4,
 "nbformat_minor": 2
}
