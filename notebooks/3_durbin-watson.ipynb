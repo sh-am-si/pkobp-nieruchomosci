{
 "cells": [
  {
   "cell_type": "code",
   "execution_count": 5,
   "metadata": {},
   "outputs": [
    {
     "name": "stdout",
     "output_type": "stream",
     "text": [
      "The autoreload extension is already loaded. To reload it, use:\n",
      "  %reload_ext autoreload\n"
     ]
    }
   ],
   "source": [
    "%load_ext autoreload\n",
    "%autoreload 2\n",
    "\n",
    "import sys\n",
    "sys.path.append(\"../\")\n",
    "\n",
    "import pandas as pd\n",
    "import numpy as np\n",
    "import statsmodels.api as sm\n",
    "from statsmodels import tsa\n",
    "import statsmodels.graphics as sg\n",
    "from statsmodels.stats import stattools as st\n",
    "import sklearn\n",
    "\n",
    "\n",
    "import matplotlib.pylab as plt\n",
    "\n",
    "import seaborn as sns\n",
    "sns.set_theme()\n",
    "\n",
    "%matplotlib inline"
   ]
  },
  {
   "cell_type": "code",
   "execution_count": 2,
   "metadata": {},
   "outputs": [
    {
     "data": {
      "text/plain": [
       "((43, 11),\n",
       "                   rynek  inflacja_r  inflacja_q  stopa_procentowa  \\\n",
       " 2014-03-31  6193.211456       100.6       100.2            0.0446   \n",
       " 2014-06-30  6227.984614       100.3       100.0            0.0447   \n",
       " 2014-09-30  6357.260998        99.7        99.5            0.0443   \n",
       " 2014-12-31  6438.874574        99.3        99.6            0.0388   \n",
       " 2015-03-31  6473.616559        98.5        99.5            0.0348   \n",
       " \n",
       "             liczba_kredytow  tempo_wzrostu  ufnosc  duze_zakupy  bezrobocie  \\\n",
       " 2014-03-31          41942.0          104.2   -20.5        -16.3        13.5   \n",
       " 2014-06-30          45499.0          104.1   -16.8        -15.0        12.0   \n",
       " 2014-09-30          43653.0          103.3   -16.9        -12.7        11.5   \n",
       " 2014-12-31          42993.0          103.3   -13.8        -10.7        11.4   \n",
       " 2015-03-31          42169.0          104.0   -14.9        -11.5        11.5   \n",
       " \n",
       "             spr_detaliczna    pkb  \n",
       " 2014-03-31           105.5  103.8  \n",
       " 2014-06-30           105.1  103.9  \n",
       " 2014-09-30           102.6  104.2  \n",
       " 2014-12-31           103.7  103.9  \n",
       " 2015-03-31           104.4  104.3  )"
      ]
     },
     "execution_count": 2,
     "metadata": {},
     "output_type": "execute_result"
    }
   ],
   "source": [
    "df = pd.read_csv('../data/ts.csv', index_col=0, parse_dates=True)\n",
    "df.shape, df.head()"
   ]
  },
  {
   "cell_type": "code",
   "execution_count": 3,
   "metadata": {},
   "outputs": [
    {
     "data": {
      "text/plain": [
       "rynek               float64\n",
       "inflacja_r          float64\n",
       "inflacja_q          float64\n",
       "stopa_procentowa    float64\n",
       "liczba_kredytow     float64\n",
       "tempo_wzrostu       float64\n",
       "ufnosc              float64\n",
       "duze_zakupy         float64\n",
       "bezrobocie          float64\n",
       "spr_detaliczna      float64\n",
       "pkb                 float64\n",
       "dtype: object"
      ]
     },
     "execution_count": 3,
     "metadata": {},
     "output_type": "execute_result"
    }
   ],
   "source": [
    "df.dtypes"
   ]
  },
  {
   "cell_type": "code",
   "execution_count": 4,
   "metadata": {},
   "outputs": [
    {
     "data": {
      "text/plain": [
       "Index(['rynek', 'inflacja_r', 'inflacja_q', 'stopa_procentowa',\n",
       "       'liczba_kredytow', 'tempo_wzrostu', 'ufnosc', 'duze_zakupy',\n",
       "       'bezrobocie', 'spr_detaliczna', 'pkb'],\n",
       "      dtype='object')"
      ]
     },
     "execution_count": 4,
     "metadata": {},
     "output_type": "execute_result"
    }
   ],
   "source": [
    "columns = df.columns\n",
    "columns"
   ]
  },
  {
   "cell_type": "code",
   "execution_count": 15,
   "metadata": {},
   "outputs": [],
   "source": [
    "X, Y = df[\"rynek\"].to_numpy(), np.arange(len(df.index))"
   ]
  },
  {
   "cell_type": "code",
   "execution_count": 16,
   "metadata": {},
   "outputs": [
    {
     "data": {
      "text/plain": [
       "array([[1.00000000e+00, 6.19321146e+03],\n",
       "       [1.00000000e+00, 6.22798461e+03],\n",
       "       [1.00000000e+00, 6.35726100e+03],\n",
       "       [1.00000000e+00, 6.43887457e+03],\n",
       "       [1.00000000e+00, 6.47361656e+03],\n",
       "       [1.00000000e+00, 6.68035377e+03],\n",
       "       [1.00000000e+00, 6.69892760e+03],\n",
       "       [1.00000000e+00, 6.66029837e+03],\n",
       "       [1.00000000e+00, 6.55063407e+03],\n",
       "       [1.00000000e+00, 6.84168177e+03],\n",
       "       [1.00000000e+00, 6.89432541e+03],\n",
       "       [1.00000000e+00, 6.75948700e+03],\n",
       "       [1.00000000e+00, 6.68258403e+03],\n",
       "       [1.00000000e+00, 7.00124528e+03],\n",
       "       [1.00000000e+00, 7.04509681e+03],\n",
       "       [1.00000000e+00, 6.96526002e+03],\n",
       "       [1.00000000e+00, 7.22418292e+03],\n",
       "       [1.00000000e+00, 7.25424123e+03],\n",
       "       [1.00000000e+00, 7.37016359e+03],\n",
       "       [1.00000000e+00, 7.71774878e+03],\n",
       "       [1.00000000e+00, 7.80689889e+03],\n",
       "       [1.00000000e+00, 8.01031123e+03],\n",
       "       [1.00000000e+00, 8.35549349e+03],\n",
       "       [1.00000000e+00, 8.56200708e+03],\n",
       "       [1.00000000e+00, 8.70932957e+03],\n",
       "       [1.00000000e+00, 8.79141467e+03],\n",
       "       [1.00000000e+00, 9.25341136e+03],\n",
       "       [1.00000000e+00, 9.48601921e+03],\n",
       "       [1.00000000e+00, 9.58206941e+03],\n",
       "       [1.00000000e+00, 9.90488054e+03],\n",
       "       [1.00000000e+00, 1.03413841e+04],\n",
       "       [1.00000000e+00, 1.08414404e+04],\n",
       "       [1.00000000e+00, 1.13336126e+04],\n",
       "       [1.00000000e+00, 1.17160527e+04],\n",
       "       [1.00000000e+00, 1.17199172e+04],\n",
       "       [1.00000000e+00, 1.15304153e+04],\n",
       "       [1.00000000e+00, 1.17448261e+04],\n",
       "       [1.00000000e+00, 1.19284711e+04],\n",
       "       [1.00000000e+00, 1.23355914e+04],\n",
       "       [1.00000000e+00, 1.30379265e+04],\n",
       "       [1.00000000e+00, 1.49428448e+04],\n",
       "       [1.00000000e+00, 1.47183810e+04],\n",
       "       [1.00000000e+00, 1.49883659e+04]])"
      ]
     },
     "execution_count": 16,
     "metadata": {},
     "output_type": "execute_result"
    }
   ],
   "source": [
    "X = sm.add_constant(X)\n",
    "X"
   ]
  },
  {
   "cell_type": "code",
   "execution_count": 17,
   "metadata": {},
   "outputs": [],
   "source": [
    "model = sm.OLS(Y, X).fit()"
   ]
  },
  {
   "cell_type": "code",
   "execution_count": 18,
   "metadata": {},
   "outputs": [
    {
     "data": {
      "text/plain": [
       "0.12995199154454698"
      ]
     },
     "execution_count": 18,
     "metadata": {},
     "output_type": "execute_result"
    }
   ],
   "source": [
    "dw = st.durbin_watson(model.resid)\n",
    "dw"
   ]
  },
  {
   "cell_type": "code",
   "execution_count": null,
   "metadata": {},
   "outputs": [],
   "source": []
  }
 ],
 "metadata": {
  "kernelspec": {
   "display_name": ".venv",
   "language": "python",
   "name": "python3"
  },
  "language_info": {
   "codemirror_mode": {
    "name": "ipython",
    "version": 3
   },
   "file_extension": ".py",
   "mimetype": "text/x-python",
   "name": "python",
   "nbconvert_exporter": "python",
   "pygments_lexer": "ipython3",
   "version": "3.12.3"
  }
 },
 "nbformat": 4,
 "nbformat_minor": 2
}
